{
 "cells": [
  {
   "cell_type": "markdown",
   "id": "575b21fa",
   "metadata": {},
   "source": [
    "# Sentiment Analysis with an Recurrent Neural Networks (RNN)"
   ]
  },
  {
   "cell_type": "code",
   "execution_count": 9,
   "id": "1fe2f2ec",
   "metadata": {},
   "outputs": [],
   "source": [
    "import pandas as pd\n",
    "import numpy as np\n",
    "import re  \n",
    "from sklearn.model_selection import train_test_split\n",
    "from tensorflow.keras.preprocessing.text import Tokenizer\n",
    "from tensorflow.keras.preprocessing.sequence import pad_sequences\n",
    "from tensorflow.keras.models import Sequential\n",
    "from tensorflow.keras.layers import SimpleRNN, Dense, Embedding\n"
   ]
  },
  {
   "cell_type": "code",
   "execution_count": 10,
   "id": "bad68cc9",
   "metadata": {},
   "outputs": [
    {
     "name": "stdout",
     "output_type": "stream",
     "text": [
      "Columns in the dataset:\n",
      "['ID', 'Area', 'City', 'Restaurant Price', 'Avg Rating', 'Total Rating', 'Food Item', 'Food Type', 'Delivery Time', 'Review']\n"
     ]
    }
   ],
   "source": [
    "data = pd.read_csv('swiggy.csv')\n",
    "print(\"Columns in the dataset:\")\n",
    "print(data.columns.tolist())\n"
   ]
  },
  {
   "cell_type": "code",
   "execution_count": 11,
   "id": "32994e68",
   "metadata": {},
   "outputs": [],
   "source": [
    "data[\"Review\"] = data[\"Review\"].str.lower()\n",
    "data[\"Review\"] = data[\"Review\"].replace(r'[^a-z0-9\\s]', '', regex=True)\n",
    "\n",
    "data['sentiment'] = data['Avg Rating'].apply(lambda x: 1 if x > 3.5 else 0)\n",
    "data = data.dropna() \n"
   ]
  },
  {
   "cell_type": "code",
   "execution_count": 12,
   "id": "c478044a",
   "metadata": {},
   "outputs": [],
   "source": [
    "max_features = 5000  \n",
    "max_length = 200    \n",
    "\n",
    "tokenizer = Tokenizer(num_words=max_features)\n",
    "tokenizer.fit_on_texts(data[\"Review\"])\n",
    "X = pad_sequences(tokenizer.texts_to_sequences(data[\"Review\"]), maxlen=max_length)\n",
    "y = data['sentiment'].values  \n"
   ]
  },
  {
   "cell_type": "code",
   "execution_count": 13,
   "id": "7ef6a97e",
   "metadata": {},
   "outputs": [],
   "source": [
    "X_train, X_test, y_train, y_test = train_test_split(\n",
    "    X, y, test_size=0.2, random_state=42, stratify=y\n",
    ")\n",
    "X_train, X_val, y_train, y_val = train_test_split(\n",
    "    X_train, y_train, test_size=0.1, random_state=42, stratify=y_train\n",
    ")\n"
   ]
  },
  {
   "cell_type": "code",
   "execution_count": 14,
   "id": "438e66c6",
   "metadata": {},
   "outputs": [
    {
     "name": "stderr",
     "output_type": "stream",
     "text": [
      "c:\\Users\\it\\anaconda3\\Lib\\site-packages\\keras\\src\\layers\\core\\embedding.py:90: UserWarning: Argument `input_length` is deprecated. Just remove it.\n",
      "  warnings.warn(\n"
     ]
    }
   ],
   "source": [
    "model = Sequential([\n",
    "    Embedding(input_dim=max_features, output_dim=16, input_length=max_length),\n",
    "    SimpleRNN(64, activation='tanh', return_sequences=False),                   \n",
    "    Dense(1, activation='sigmoid')                                          \n",
    "])\n",
    "\n",
    "model.compile(\n",
    "    loss='binary_crossentropy',\n",
    "    optimizer='adam',\n",
    "    metrics=['accuracy']\n",
    ")\n"
   ]
  },
  {
   "cell_type": "code",
   "execution_count": 15,
   "id": "b249fa4a",
   "metadata": {},
   "outputs": [
    {
     "name": "stdout",
     "output_type": "stream",
     "text": [
      "Epoch 1/5\n",
      "\u001b[1m180/180\u001b[0m \u001b[32m━━━━━━━━━━━━━━━━━━━━\u001b[0m\u001b[37m\u001b[0m \u001b[1m12s\u001b[0m 42ms/step - accuracy: 0.6975 - loss: 0.6130 - val_accuracy: 0.7156 - val_loss: 0.5990\n",
      "Epoch 2/5\n",
      "\u001b[1m180/180\u001b[0m \u001b[32m━━━━━━━━━━━━━━━━━━━━\u001b[0m\u001b[37m\u001b[0m \u001b[1m7s\u001b[0m 36ms/step - accuracy: 0.7166 - loss: 0.5978 - val_accuracy: 0.7156 - val_loss: 0.5972\n",
      "Epoch 3/5\n",
      "\u001b[1m180/180\u001b[0m \u001b[32m━━━━━━━━━━━━━━━━━━━━\u001b[0m\u001b[37m\u001b[0m \u001b[1m10s\u001b[0m 37ms/step - accuracy: 0.7136 - loss: 0.5983 - val_accuracy: 0.7156 - val_loss: 0.6022\n",
      "Epoch 4/5\n",
      "\u001b[1m180/180\u001b[0m \u001b[32m━━━━━━━━━━━━━━━━━━━━\u001b[0m\u001b[37m\u001b[0m \u001b[1m7s\u001b[0m 37ms/step - accuracy: 0.7196 - loss: 0.5939 - val_accuracy: 0.7156 - val_loss: 0.5979\n",
      "Epoch 5/5\n",
      "\u001b[1m180/180\u001b[0m \u001b[32m━━━━━━━━━━━━━━━━━━━━\u001b[0m\u001b[37m\u001b[0m \u001b[1m7s\u001b[0m 37ms/step - accuracy: 0.7039 - loss: 0.6059 - val_accuracy: 0.7156 - val_loss: 0.6010\n",
      "Test accuracy: 0.72\n"
     ]
    }
   ],
   "source": [
    "history = model.fit(\n",
    "    X_train, y_train,\n",
    "    epochs=5,\n",
    "    batch_size=32,\n",
    "    validation_data=(X_val, y_val),\n",
    "    verbose=1\n",
    ")\n",
    "\n",
    "score = model.evaluate(X_test, y_test, verbose=0)\n",
    "print(f\"Test accuracy: {score[1]:.2f}\")\n"
   ]
  },
  {
   "cell_type": "code",
   "execution_count": 16,
   "id": "10144acb",
   "metadata": {},
   "outputs": [
    {
     "name": "stdout",
     "output_type": "stream",
     "text": [
      "Review: The food was great.\n",
      "\u001b[1m1/1\u001b[0m \u001b[32m━━━━━━━━━━━━━━━━━━━━\u001b[0m\u001b[37m\u001b[0m \u001b[1m0s\u001b[0m 423ms/step\n",
      "Sentiment: Positive (Probability: 0.75)\n"
     ]
    }
   ],
   "source": [
    "def predict_sentiment(review_text):\n",
    "    text = review_text.lower()\n",
    "    text = re.sub(r'[^a-z0-9\\s]', '', text)\n",
    "    \n",
    "    seq = tokenizer.texts_to_sequences([text])\n",
    "    padded = pad_sequences(seq, maxlen=max_length)\n",
    "\n",
    "    prediction = model.predict(padded)[0][0]\n",
    "    return f\"{'Positive' if prediction >= 0.5 else 'Negative'} (Probability: {prediction:.2f})\"\n",
    "    \n",
    "sample_review = \"The food was great.\"\n",
    "print(f\"Review: {sample_review}\")\n",
    "print(f\"Sentiment: {predict_sentiment(sample_review)}\")\n"
   ]
  },
  {
   "cell_type": "markdown",
   "id": "4beffd5c",
   "metadata": {},
   "source": [
    "# Sentiment Analysis using VADER"
   ]
  },
  {
   "cell_type": "code",
   "execution_count": 1,
   "id": "975a30d5",
   "metadata": {},
   "outputs": [
    {
     "name": "stdout",
     "output_type": "stream",
     "text": [
      "\n",
      "1st Statement:\n",
      "Overall sentiment dictionary is :  {'neg': 0.175, 'neu': 0.562, 'pos': 0.263, 'compound': 0.5267}\n",
      "Sentence was rated as  17.5 % Negative\n",
      "Sentence was rated as  56.2 % Neutral\n",
      "Sentence was rated as  26.3 % Positive\n",
      "Sentence Overall Rated As Positive\n",
      "\n",
      "2nd Statement:\n",
      "Overall sentiment dictionary is :  {'neg': 0.0, 'neu': 1.0, 'pos': 0.0, 'compound': 0.0}\n",
      "Sentence was rated as  0.0 % Negative\n",
      "Sentence was rated as  100.0 % Neutral\n",
      "Sentence was rated as  0.0 % Positive\n",
      "Sentence Overall Rated As Neutral\n",
      "\n",
      "3rd Statement:\n",
      "Overall sentiment dictionary is :  {'neg': 0.459, 'neu': 0.541, 'pos': 0.0, 'compound': -0.5256}\n",
      "Sentence was rated as  45.9 % Negative\n",
      "Sentence was rated as  54.1 % Neutral\n",
      "Sentence was rated as  0.0 % Positive\n",
      "Sentence Overall Rated As Negative\n"
     ]
    }
   ],
   "source": [
    "# import SentimentIntensityAnalyzer class from vaderSentiment.vaderSentiment module.\n",
    "from vaderSentiment.vaderSentiment import SentimentIntensityAnalyzer\n",
    "\n",
    "# Function to print sentiments of the sentence.\n",
    "def sentiment_scores(sentence):\n",
    "\n",
    "    # Create a SentimentIntensityAnalyzer object.\n",
    "    sid_obj = SentimentIntensityAnalyzer()\n",
    "\n",
    "    # polarity_scores method of SentimentIntensityAnalyzer object gives a sentiment dictionary.\n",
    "    # which contains pos, neg, neu, and compound scores.\n",
    "    sentiment_dict = sid_obj.polarity_scores(sentence)\n",
    "    \n",
    "    print(\"Overall sentiment dictionary is : \", sentiment_dict)\n",
    "    print(\"Sentence was rated as \", sentiment_dict['neg']*100, \"% Negative\")\n",
    "    print(\"Sentence was rated as \", sentiment_dict['neu']*100, \"% Neutral\")\n",
    "    print(\"Sentence was rated as \", sentiment_dict['pos']*100, \"% Positive\")\n",
    "\n",
    "    print(\"Sentence Overall Rated As\", end=\" \")\n",
    "\n",
    "    # Decide sentiment as positive, negative, or neutral\n",
    "    if sentiment_dict['compound'] >= 0.05 :\n",
    "        print(\"Positive\")\n",
    "    elif sentiment_dict['compound'] <= -0.05 :\n",
    "        print(\"Negative\")\n",
    "    else :\n",
    "        print(\"Neutral\")\n",
    "\n",
    "# Driver code to test the function\n",
    "if __name__ == \"__main__\" :\n",
    "\n",
    "    print(\"\\n1st Statement:\")\n",
    "    sentence = \"Geeks For Geeks is the best portal for computer science engineering students.\"\n",
    "    sentiment_scores(sentence)\n",
    "\n",
    "    print(\"\\n2nd Statement:\")\n",
    "    sentence = \"Study is going on as usual.\"\n",
    "    sentiment_scores(sentence)\n",
    "\n",
    "    print(\"\\n3rd Statement:\")\n",
    "    sentence = \"I am very sad today.\"\n",
    "    sentiment_scores(sentence)"
   ]
  }
 ],
 "metadata": {
  "kernelspec": {
   "display_name": "base",
   "language": "python",
   "name": "python3"
  },
  "language_info": {
   "codemirror_mode": {
    "name": "ipython",
    "version": 3
   },
   "file_extension": ".py",
   "mimetype": "text/x-python",
   "name": "python",
   "nbconvert_exporter": "python",
   "pygments_lexer": "ipython3",
   "version": "3.11.5"
  }
 },
 "nbformat": 4,
 "nbformat_minor": 5
}
